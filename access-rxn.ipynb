{
 "cells": [
  {
   "cell_type": "code",
   "execution_count": null,
   "metadata": {},
   "outputs": [],
   "source": [
    "from rxn4chemistry import RXN4ChemistryWrapper as r4c #REST API wrapper\n",
    "from rdkit import Chem,RDLogger\n",
    "from rdkit.Chem import AllChem, MACCSkeys, rdChemReactions as Reactions\n",
    "from time import sleep #to prevent RXN cloud overload\n",
    "import os\n",
    "import pandas as pd\n",
    "import math"
   ]
  },
  {
   "cell_type": "code",
   "execution_count": null,
   "metadata": {},
   "outputs": [],
   "source": [
    "#Disable RDKit warning 'not removing hydrogen atom without neighbors' \n",
    "RDLogger.DisableLog('rdApp.*')"
   ]
  },
  {
   "cell_type": "code",
   "execution_count": null,
   "metadata": {},
   "outputs": [],
   "source": [
    "#api = 'uncomment this cell and paste your API key here'"
   ]
  },
  {
   "cell_type": "code",
   "execution_count": null,
   "metadata": {},
   "outputs": [],
   "source": [
    "def get_reactions():\n",
    "    \"\"\"This function collects all reaction SMILES from the file 'test-set.xlsx.'\n",
    "    \"\"\"\n",
    "    directory = os.getcwd()\n",
    "    data = (pd.read_excel(directory+'/test-set.xlsx'))\n",
    "    keys = list(data.keys())\n",
    "    vals = [[rxn.split('>>') for rxn in data[key]] for key in keys]\n",
    "    canon = [['>>'.join([Chem.MolToSmiles(Chem.MolFromSmiles(mol)) for mol in rxn]) for rxn in rxns] for rxns in vals]\n",
    "    return {keys[i]: canon[i] for i in range(len(keys))}"
   ]
  },
  {
   "cell_type": "code",
   "execution_count": null,
   "metadata": {},
   "outputs": [],
   "source": [
    "def get_mols(m):\n",
    "    \"\"\"This function collects either the reactants (r) or products (p) \n",
    "    and saves them to a dictionary divided by reaction class.\n",
    "    \"\"\"\n",
    "    if m == 'r':\n",
    "        i = 0\n",
    "    elif m == 'p': \n",
    "        i = -1\n",
    "    else: \n",
    "        return 'Incorrect molecule description'        \n",
    "    return {key : [p.split('>')[i] for p in get_reactions()[key]] for key in get_reactions().keys()}"
   ]
  },
  {
   "cell_type": "code",
   "execution_count": null,
   "metadata": {},
   "outputs": [],
   "source": [
    "#uncomment this cell to initialize prediction output file\n",
    "#head = ['reaction class','projectId','predictionId','reaction','product','confidence']\n",
    "#output_headers = pd.DataFrame([],columns = [h for h in head])\n",
    "#output_headers.to_csv(os.getcwd()+'/results.csv',mode = 'w')"
   ]
  },
  {
   "cell_type": "code",
   "execution_count": null,
   "metadata": {},
   "outputs": [],
   "source": [
    "def synthesis(rxn_class):\n",
    "    \"\"\"\n",
    "    This function performs reaction predictions per reaction class and writes the data to the file 'results.csv.'\n",
    "    \n",
    "    A dictionary for with reaction class, projectId, predictionId, reaction, product, and confidence is create.\n",
    "    After logging in to the IBM RXN cloud with your authentication key generated on the RXN web interface under \n",
    "    the 'My Profile' tab, a project is created. A reaction prediction is then performed for each reaction,\n",
    "    maintained by the 'While' loop to wait for the prediction to be complete before attempting to access the results.\n",
    "    The sleep functions throughout the function serve to prevent the REST API from receiving too many requests \n",
    "    per 2 seconds and per minute in accordance with the RXN for Chemistry guidelines.\n",
    "    \"\"\"\n",
    "    print('\\n Reactions Completed: ',end = ' ')\n",
    "    out = {'reaction class':[],'projectId':[],'predictionId':[],'reaction':[],'product':[],'confidence':[]}\n",
    "    ibm = r4c(api_key = api)\n",
    "    sleep(2)\n",
    "    response = ibm.create_project(rxn_class)\n",
    "    sleep(2)\n",
    "    for i,rxn in enumerate(get_mols('r')[rxn_class]):\n",
    "        sleep(2)\n",
    "        response = ibm.predict_reaction(rxn) \n",
    "        sleep(2)\n",
    "        while True:#close loop only when synthesis is complete\n",
    "            #run synthesis\n",
    "            results = ibm.get_predict_reaction_results(response['prediction_id'])\n",
    "            #pause for 2 sec to avoid overloading IBM-RXN\n",
    "            sleep(2)\n",
    "            #if synthesis is complete,...\n",
    "            if results['response']['payload']['status'] == 'SUCCESS':\n",
    "                sleep(60)\n",
    "                final = results['response']['payload']\n",
    "                smiles = final['attempts'][0]['smiles']\n",
    "                out['reaction class'].append(rxn_class)\n",
    "                out['projectId'].append(final['projectId'])\n",
    "                out['predictionId'].append(final['attempts'][0]['predictionId'])\n",
    "                out['reaction'].append(get_reactions()[rxn_class][i])\n",
    "                out['product'].append(smiles.split('>')[-1])\n",
    "                out['confidence'].append(final['attempts'][0]['confidence']) \n",
    "                print(str(i+1), end = ' ')\n",
    "                break\n",
    "            else:\n",
    "                results = ibm.get_predict_reaction_results(response['prediction_id'])\n",
    "                sleep(60)\n",
    "    output = pd.DataFrame([[out['reaction class'][j],out['projectId'][j],\n",
    "                            out['predictionId'][j],out['reaction'][j],\n",
    "                            out['product'][j],out['confidence'][j]] for j in range(len(out['product']))])\n",
    "    output.to_csv(os.getcwd()+'/results.csv',mode='a',header=False)\n",
    "    "
   ]
  },
  {
   "cell_type": "code",
   "execution_count": null,
   "metadata": {
    "scrolled": false
   },
   "outputs": [],
   "source": [
    "#uncomment this cell to run all predictions\n",
    "#for rxn in rxnClass:\n",
    "    #synthesis(rxn)"
   ]
  },
  {
   "cell_type": "code",
   "execution_count": null,
   "metadata": {
    "scrolled": true
   },
   "outputs": [],
   "source": [
    "#import initial prediction results and all outcomes generated from this notebook and \"extractOutcomes.nb\", respectively\n",
    "results = pd.read_csv(os.getcwd()+'/results.csv')\n",
    "more_outcomes = pd.read_csv(os.getcwd()+\"/more_outcomes.csv\")"
   ]
  },
  {
   "cell_type": "code",
   "execution_count": null,
   "metadata": {},
   "outputs": [],
   "source": [
    "#get list of reacton classes\n",
    "#necessary to loop over reaction classes\n",
    "rxnClass = list(get_reactions().keys())"
   ]
  },
  {
   "cell_type": "code",
   "execution_count": null,
   "metadata": {},
   "outputs": [],
   "source": [
    "#generate a dictionary of success and confidence per reaction class\n",
    "success = [[more_outcomes['success'][i] for i in range(len(more_outcomes['success'])) if more_outcomes['reaction'][i] == rxn] for rxn in results['reaction'].tolist()]\n",
    "split_success = [success[i : i+10] for i in range(0,len(success),10)]\n",
    "conf = [[more_outcomes['confidence'][i] for i in range(len(more_outcomes['confidence'])) if more_outcomes['reaction'][i] == rxn] for rxn in results['reaction'].tolist()]\n",
    "split_conf = [conf[i : i+10] for i in range(0,len(conf),10)]\n",
    "outcome_dict = {rxnClass[i] : {'success':split_success[i],'confidence': split_conf[i]} for i in range(len(rxnClass))}"
   ]
  },
  {
   "cell_type": "code",
   "execution_count": null,
   "metadata": {},
   "outputs": [],
   "source": [
    "def top_k(rxn_class):\n",
    "    \"\"\"\n",
    "    This function computes the top-k accuracy per reaction class.\n",
    "    \n",
    "    Since each reaction class contains exactly 10 reactions, \n",
    "    the top-k accuracy is represented as a whole number (out of 10) rather than a percentage.\n",
    "    \"\"\"\n",
    "    top = [0,0,0,0,0]\n",
    "    for k in range(1,6):\n",
    "        top_n = 0\n",
    "        success = [rxn[:k] for rxn in outcome_dict[rxn_class]['success']]\n",
    "        for rxn in success:\n",
    "            if 'Y' in rxn:\n",
    "                top[k-1] +=1\n",
    "    return top"
   ]
  },
  {
   "cell_type": "code",
   "execution_count": null,
   "metadata": {},
   "outputs": [],
   "source": [
    "#generate dictionary of top-k accuracies divided by reaction class\n",
    "top5 = {rxn : top_k(rxn) for rxn in rxnClass}"
   ]
  },
  {
   "cell_type": "code",
   "execution_count": null,
   "metadata": {},
   "outputs": [],
   "source": [
    "def tao(success, confidence, k):\n",
    "    \"\"\"\n",
    "    This function computes the Tao score for the top-k outcomes from a single prediction. \n",
    "    \n",
    "    Here, the probability is taken as the sum of all confidences associated with that prediction. \n",
    "    E.g., The top-5 probability of success for a reaction with 5 outcomes is the sum of the confidences for those 5 outcomes.\n",
    "    \"\"\"\n",
    "    p = sum(confidence[0:k])\n",
    "    if 'Y' in success[0:k]:\n",
    "        return math.log2(2*p)\n",
    "    else:\n",
    "        return math.log2(2*(1-p))\n",
    "        \n",
    "        "
   ]
  },
  {
   "cell_type": "code",
   "execution_count": null,
   "metadata": {},
   "outputs": [],
   "source": [
    "def get_tao(r):\n",
    "    \"\"\"\n",
    "    This function calculates the total Tao score from the top-k outcomes for each reaction in a reaction class.\n",
    "    \"\"\"\n",
    "    total_score = [0,0,0,0,0]\n",
    "    for s,c in zip(outcome_dict[r]['success'],outcome_dict[r]['confidence']):\n",
    "            for k in range(1,6):\n",
    "                total_score[k-1] += tao(s,c,k)\n",
    "    return total_score   "
   ]
  },
  {
   "cell_type": "code",
   "execution_count": null,
   "metadata": {},
   "outputs": [],
   "source": [
    "#generate dictionary of top-k Tao scores divided according to reaction class\n",
    "#values are lists of top-k scores in descending order, i.e., top-1, top-2, top-3, ...etc.\n",
    "tao_scores = {r : get_tao(r) for r in rxnClass}"
   ]
  },
  {
   "cell_type": "code",
   "execution_count": null,
   "metadata": {},
   "outputs": [],
   "source": [
    "#find outcomes containing extra elements or new elements absent in reactants\n",
    "alchemy = {rxn : {'alchemy' : [], 'extra': []} for rxn in rxnClass}\n",
    "err = ''\n",
    "for i,(c,r,p) in enumerate(zip(more_outcomes['reaction class'],more_outcomes['reaction'],more_outcomes['product'])):\n",
    "    reac = r.split('>')[0]\n",
    "    el_r,el_p = [atom.GetSymbol() for atom in Chem.MolFromSmarts(reac).GetAtoms()],[atom.GetSymbol() for atom in Chem.MolFromSmarts(p).GetAtoms()]\n",
    "    for element in el_p:\n",
    "        result = [i, reac+'>>'+p, element]\n",
    "        if element not in el_r and result not in alchemy[c]['alchemy']:\n",
    "            alchemy[c]['alchemy'].append(result)\n",
    "        elif el_p.count(element) > el_r.count(element) and result not in alchemy[c]['extra']:\n",
    "            alchemy[c]['extra'].append(result)"
   ]
  },
  {
   "cell_type": "code",
   "execution_count": null,
   "metadata": {},
   "outputs": [],
   "source": [
    "#find reactions with less than 5 outcomes\n",
    "less_than_5_rxns = [[rxn,more_outcomes['reaction'].tolist().count(rxn)] for rxn in more_outcomes['reaction'] if more_outcomes['reaction'].tolist().count(rxn)<5]\n",
    "[list(i) for i in set(map(tuple,less_than_5_rxns))]"
   ]
  },
  {
   "cell_type": "code",
   "execution_count": null,
   "metadata": {},
   "outputs": [],
   "source": [
    "alchemy['organocopper']['alchemy']"
   ]
  },
  {
   "cell_type": "code",
   "execution_count": null,
   "metadata": {},
   "outputs": [],
   "source": []
  }
 ],
 "metadata": {
  "kernelspec": {
   "display_name": "Python 3",
   "language": "python",
   "name": "python3"
  },
  "language_info": {
   "codemirror_mode": {
    "name": "ipython",
    "version": 3
   },
   "file_extension": ".py",
   "mimetype": "text/x-python",
   "name": "python",
   "nbconvert_exporter": "python",
   "pygments_lexer": "ipython3",
   "version": "3.7.4"
  }
 },
 "nbformat": 4,
 "nbformat_minor": 2
}
